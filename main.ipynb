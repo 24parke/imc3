{
 "cells": [
  {
   "cell_type": "code",
   "execution_count": 3,
   "id": "980a5be2",
   "metadata": {},
   "outputs": [],
   "source": [
    "import pandas as pd\n",
    "from datamodel import OrderDepth, UserId, TradingState, Order\n",
    "from typing import List\n",
    "import string"
   ]
  },
  {
   "cell_type": "code",
   "execution_count": 13,
   "id": "28184512",
   "metadata": {},
   "outputs": [],
   "source": [
    "class Trader:\n",
    "    def run(self, state: TradingState):\n",
    "        print(\"traderData: \" + state.traderData)\n",
    "        print(\"Observations: \" + str(state.observations))"
   ]
  },
  {
   "cell_type": "code",
   "execution_count": 14,
   "id": "7490f9b7",
   "metadata": {},
   "outputs": [
    {
     "ename": "TypeError",
     "evalue": "run() missing 1 required positional argument: 'self'",
     "output_type": "error",
     "traceback": [
      "\u001b[0;31m---------------------------------------------------------------------------\u001b[0m",
      "\u001b[0;31mTypeError\u001b[0m                                 Traceback (most recent call last)",
      "Cell \u001b[0;32mIn[14], line 1\u001b[0m\n\u001b[0;32m----> 1\u001b[0m \u001b[43mTrader\u001b[49m\u001b[38;5;241;43m.\u001b[39;49m\u001b[43mrun\u001b[49m\u001b[43m(\u001b[49m\u001b[43mstate\u001b[49m\u001b[43m \u001b[49m\u001b[38;5;241;43m=\u001b[39;49m\u001b[43m \u001b[49m\u001b[43mTradingState\u001b[49m\u001b[43m)\u001b[49m\n",
      "\u001b[0;31mTypeError\u001b[0m: run() missing 1 required positional argument: 'self'"
     ]
    }
   ],
   "source": [
    "Trader.run(state = TradingState)"
   ]
  }
 ],
 "metadata": {
  "kernelspec": {
   "display_name": "Python 3",
   "language": "python",
   "name": "python3"
  },
  "language_info": {
   "codemirror_mode": {
    "name": "ipython",
    "version": 3
   },
   "file_extension": ".py",
   "mimetype": "text/x-python",
   "name": "python",
   "nbconvert_exporter": "python",
   "pygments_lexer": "ipython3",
   "version": "3.9.6"
  }
 },
 "nbformat": 4,
 "nbformat_minor": 5
}
