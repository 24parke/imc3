{
 "cells": [
  {
   "cell_type": "code",
   "execution_count": 3,
   "id": "980a5be2",
   "metadata": {},
   "outputs": [],
   "source": [
    "import pandas as pd\n",
    "from datamodel import OrderDepth, UserId, TradingState, Order\n",
    "from typing import List\n",
    "import string"
   ]
  },
  {
   "cell_type": "code",
   "execution_count": null,
   "id": "28184512",
   "metadata": {},
   "outputs": [],
   "source": [
    "class Trader:\n",
    "    def run(self, state: TradingState):\n",
    "        print(\"traderData: \" + state.traderData)\n",
    "        print(\"Observations: \" + str(state.observations))\n",
    "        result = {}\n",
    "        "
   ]
  }
 ],
 "metadata": {
  "kernelspec": {
   "display_name": "Python 3",
   "language": "python",
   "name": "python3"
  },
  "language_info": {
   "codemirror_mode": {
    "name": "ipython",
    "version": 3
   },
   "file_extension": ".py",
   "mimetype": "text/x-python",
   "name": "python",
   "nbconvert_exporter": "python",
   "pygments_lexer": "ipython3",
   "version": "3.13.2"
  }
 },
 "nbformat": 4,
 "nbformat_minor": 5
}
